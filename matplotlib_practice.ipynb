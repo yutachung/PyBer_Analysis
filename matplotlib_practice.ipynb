{
 "cells": [
  {
   "cell_type": "code",
   "execution_count": null,
   "id": "62a59a02",
   "metadata": {},
   "outputs": [],
   "source": [
    "import matplotlib\n",
    "matplotlib.__version__"
   ]
  },
  {
   "cell_type": "code",
   "execution_count": null,
   "id": "58e861ba",
   "metadata": {},
   "outputs": [],
   "source": [
    "%matplotlib inline"
   ]
  },
  {
   "cell_type": "code",
   "execution_count": null,
   "id": "14f455c4",
   "metadata": {},
   "outputs": [],
   "source": [
    "#import dependencies\n",
    "import matplotlib.pyplot as plt"
   ]
  },
  {
   "cell_type": "code",
   "execution_count": null,
   "id": "017da421",
   "metadata": {},
   "outputs": [],
   "source": [
    "#Set the x-axis to a list of strings for each month\n",
    "x_axis = [\"Jan\", \"Feb\", \"Mar\", \"April\", \"May\", \"June\", \"July\", \"Aug\", \"Sept\", \"Oct\", \"Nov\", \"Dec\"]\n",
    "#Set the y-axis to a list of floats as the total fare in US dollars accumulated for each month\n",
    "y_axis = [10.02, 23.23, 39.20, 35.42, 32.34, 27.04, 43.82, 10.56, 11.85, 27.90, 20.71, 20.09]"
   ]
  },
  {
   "cell_type": "code",
   "execution_count": null,
   "id": "07e0e98b",
   "metadata": {},
   "outputs": [],
   "source": [
    "#Create the plot\n",
    "plt.plot(x_axis, y_axis)"
   ]
  },
  {
   "cell_type": "code",
   "execution_count": null,
   "id": "2679d9b2",
   "metadata": {},
   "outputs": [],
   "source": [
    "#Create the plot with ax.plt()\n",
    "fig, ax = plt.subplots()\n",
    "ax.plot(x_axis, y_axis)"
   ]
  },
  {
   "cell_type": "code",
   "execution_count": null,
   "id": "19715431",
   "metadata": {},
   "outputs": [],
   "source": [
    "#Create the plot with ax.plt()\n",
    "fig = plt.figure()\n",
    "ax = fig.add_subplot()\n",
    "ax.plot(x_axis, y_axis)"
   ]
  },
  {
   "cell_type": "code",
   "execution_count": null,
   "id": "34669333",
   "metadata": {},
   "outputs": [],
   "source": [
    "# Create the plot with ax.plt()\n",
    "ax = plt.axes()\n",
    "ax.plot(x_axis, y_axis)"
   ]
  },
  {
   "cell_type": "code",
   "execution_count": null,
   "id": "6d132487",
   "metadata": {},
   "outputs": [],
   "source": [
    "# Create the plot.\n",
    "plt.plot(x_axis, y_axis)\n",
    "#plt.show()\n",
    "#^ should only be used once per session because it can cause the graph to\n",
    "#to display improperly, restart kernel and clear output if there are \n",
    "#problems"
   ]
  },
  {
   "cell_type": "code",
   "execution_count": null,
   "id": "fc9344a9",
   "metadata": {},
   "outputs": [],
   "source": [
    "# Create the plot and add a label for the legend.\n",
    "plt.plot(x_axis, y_axis, label='Boston')\n",
    "# Create labels for the x and y axes.\n",
    "plt.xlabel(\"Date\")\n",
    "plt.ylabel(\"Fare($)\")\n",
    "# Set the y limit between 0 and 45.\n",
    "plt.ylim(0, 45)\n",
    "# Create a title.\n",
    "plt.title(\"PyBer Fare by Month\")\n",
    "# Add the legend.\n",
    "plt.legend()"
   ]
  },
  {
   "cell_type": "code",
   "execution_count": null,
   "id": "f8912318",
   "metadata": {},
   "outputs": [],
   "source": [
    "#Create the plot\n",
    "plt.plot(x_axis, y_axis, marker=\"*\", color=\"blue\", linewidth=2, label='Boston')\n",
    "#Create labels for the x and y axes\n",
    "plt.xlabel(\"Date\")\n",
    "plt.ylabel(\"Fare($)\")\n",
    "#Set the y limit between 0 and 45\n",
    "plt.ylim(0, 45)\n",
    "#Create a title\n",
    "plt.title(\"PyBer Fare by Month\")\n",
    "#Add a grid\n",
    "plt.grid()\n",
    "#Add the legend\n",
    "plt.legend()"
   ]
  },
  {
   "cell_type": "code",
   "execution_count": null,
   "id": "229c4281",
   "metadata": {},
   "outputs": [],
   "source": [
    "#skilldrill\n",
    "plt.plot(x_axis, y_axis, marker=\"D\", color=\"green\", linewidth=2, label='Boston')\n",
    "#Create labels for the x and y axes\n",
    "plt.xlabel(\"Date\")\n",
    "plt.ylabel(\"Fare($)\")\n",
    "#Set the y limit between 0 and 45\n",
    "plt.ylim(0, 45)\n",
    "#Create a title\n",
    "plt.title(\"PyBer Fare by Month\")\n",
    "#Add a grid\n",
    "plt.grid()\n",
    "#Add the legend\n",
    "plt.legend()"
   ]
  },
  {
   "cell_type": "code",
   "execution_count": null,
   "id": "54e0fd2c",
   "metadata": {},
   "outputs": [],
   "source": [
    "# Set the x-axis to a list of strings for each month.\n",
    "x_axis = [\"Jan\", \"Feb\", \"Mar\", \"April\", \"May\", \"June\", \"July\", \"Aug\", \"Sept\", \"Oct\", \"Nov\", \"Dec\"]\n",
    "\n",
    "# Set the y-axis to a list of floats as the total fare in US dollars accumulated for each month.\n",
    "y_axis = [10.02, 23.24, 39.20, 35.42, 32.34, 27.04, 43.82, 10.56, 11.85, 27.90, 20.71, 20.09]"
   ]
  },
  {
   "cell_type": "code",
   "execution_count": null,
   "id": "98fd8b78",
   "metadata": {},
   "outputs": [],
   "source": [
    "#Create the plot\n",
    "plt.bar(x_axis, y_axis)"
   ]
  },
  {
   "cell_type": "code",
   "execution_count": null,
   "id": "7ba58889",
   "metadata": {},
   "outputs": [],
   "source": [
    "#Create the plot\n",
    "plt.bar(x_axis, y_axis, color=\"green\", label='Boston')\n",
    "#Create labels for the x and y axes\n",
    "plt.xlabel(\"Date\")\n",
    "plt.ylabel(\"Fare($)\")\n",
    "#Create a title\n",
    "plt.title(\"PyBer Fare by Month\")\n",
    "#Add the legend\n",
    "plt.legend()"
   ]
  },
  {
   "cell_type": "code",
   "execution_count": null,
   "id": "cfc84cd2",
   "metadata": {},
   "outputs": [],
   "source": [
    "#Create the plot\n",
    "plt.barh(y_axis, x_axis)"
   ]
  },
  {
   "cell_type": "code",
   "execution_count": null,
   "id": "2045192b",
   "metadata": {},
   "outputs": [],
   "source": [
    "#Create the plot\n",
    "plt.barh(x_axis, y_axis)\n",
    "plt.gca().invert_yaxis()"
   ]
  },
  {
   "cell_type": "code",
   "execution_count": null,
   "id": "d3fdfcf0",
   "metadata": {},
   "outputs": [],
   "source": [
    "#Create the plot\n",
    "plt.barh(x_axis, y_axis, color=\"purple\", label='Boston')\n",
    "plt.gca().invert_yaxis()\n",
    "plt.xlabel(\"Fare($)\")\n",
    "plt.ylabel(\"Date\")\n",
    "plt.title(\"PyBer Fare by Month\")\n",
    "plt.legend()"
   ]
  },
  {
   "cell_type": "code",
   "execution_count": null,
   "id": "4a7694fd",
   "metadata": {},
   "outputs": [],
   "source": [
    "# Set the x-axis to a list of strings for each month.\n",
    "x_axis = [\"Jan\", \"Feb\", \"Mar\", \"April\", \"May\", \"June\", \"July\", \"Aug\", \"Sept\", \"Oct\", \"Nov\", \"Dec\"]\n",
    "\n",
    "# Set the y-axis to a list of floats as the total fare in US dollars accumulated for each month.\n",
    "y_axis = [10.02, 23.24, 39.20, 35.42, 32.34, 27.04, 43.82, 10.56, 11.85, 27.90, 20.71, 20.09]"
   ]
  },
  {
   "cell_type": "code",
   "execution_count": null,
   "id": "7c1ee2d3",
   "metadata": {
    "scrolled": true
   },
   "outputs": [],
   "source": [
    "#Create the plot with ax.plt()\n",
    "fig, ax = plt.subplots()\n",
    "ax.bar(x_axis, y_axis)"
   ]
  },
  {
   "cell_type": "code",
   "execution_count": null,
   "id": "78e5716f",
   "metadata": {},
   "outputs": [],
   "source": [
    "#Create the plot with ax.plt()\n",
    "fig, ax = plt.subplots()\n",
    "ax.barh(x_axis, y_axis)"
   ]
  },
  {
   "cell_type": "code",
   "execution_count": null,
   "id": "d8486b48",
   "metadata": {},
   "outputs": [],
   "source": [
    "#Create the plot with ax.plt()\n",
    "fig, ax = plt.subplots()\n",
    "ax.barh(y_axis, x_axis)"
   ]
  },
  {
   "cell_type": "code",
   "execution_count": null,
   "id": "6d04e730",
   "metadata": {
    "scrolled": true
   },
   "outputs": [],
   "source": [
    "#Create the plot with ax.plt()\n",
    "fig, ax = plt.subplots()\n",
    "ax.barh(x_axis, y_axis, color=\"cyan\", label=\"Chicago\")\n",
    "plt.gca().invert_yaxis()\n",
    "plt.xlabel(\"Fare($)\")\n",
    "plt.ylabel(\"Date\")\n",
    "plt.title(\"PyBer Fare by Month\")\n",
    "plt.legend()"
   ]
  },
  {
   "cell_type": "code",
   "execution_count": null,
   "id": "976d0a31",
   "metadata": {},
   "outputs": [],
   "source": [
    "# Set the x-axis to a list of strings for each month.\n",
    "x_axis = [\"Jan\", \"Feb\", \"Mar\", \"April\", \"May\", \"June\", \"July\", \"Aug\", \"Sept\", \"Oct\", \"Nov\", \"Dec\"]\n",
    "\n",
    "# Set the y-axis to a list of floats as the total fare in US dollars accumulated for each month.\n",
    "y_axis = [10.02, 23.24, 39.20, 35.42, 32.34, 27.04, 43.82, 10.56, 11.85, 27.90, 20.71, 20.09]"
   ]
  },
  {
   "cell_type": "code",
   "execution_count": null,
   "id": "42ab1cef",
   "metadata": {},
   "outputs": [],
   "source": [
    "plt.plot(x_axis, y_axis, 'o')"
   ]
  },
  {
   "cell_type": "code",
   "execution_count": null,
   "id": "05f146ea",
   "metadata": {},
   "outputs": [],
   "source": [
    "plt.plot(y_axis, x_axis, 'o', color=\"red\", label=\"Chicago\")\n",
    "plt.gca().invert_yaxis()\n",
    "plt.xlim(0, 45)\n",
    "plt.xlabel(\"Fare($)\")\n",
    "plt.ylabel(\"Date\")\n",
    "plt.title(\"PyBer Fare by Month\")\n",
    "plt.legend()"
   ]
  },
  {
   "cell_type": "code",
   "execution_count": null,
   "id": "fc43aadd",
   "metadata": {},
   "outputs": [],
   "source": [
    "plt.scatter(x_axis, y_axis)"
   ]
  },
  {
   "cell_type": "code",
   "execution_count": null,
   "id": "f504824a",
   "metadata": {},
   "outputs": [],
   "source": [
    "plt.scatter(x_axis, y_axis, s=y_axis)\n",
    "#points look bigger based on the value of the dot"
   ]
  },
  {
   "cell_type": "code",
   "execution_count": null,
   "id": "60ee92e1",
   "metadata": {},
   "outputs": [],
   "source": [
    "#make the dots bigger by multiplying the data value by another value\n",
    "#this will make the points easier to see\n",
    "y_axis_larger = []\n",
    "for data in y_axis:\n",
    "    y_axis_larger.append(data*3)\n",
    "plt.scatter(x_axis, y_axis, s=y_axis_larger)"
   ]
  },
  {
   "cell_type": "code",
   "execution_count": null,
   "id": "81f5a332",
   "metadata": {},
   "outputs": [],
   "source": [
    "#refractored code of the above\n",
    "# new_list = [expression for item in list if conditional]\n",
    "plt.scatter(x_axis, y_axis, s = [i * 3 for i in y_axis])"
   ]
  },
  {
   "cell_type": "code",
   "execution_count": null,
   "id": "d45a8eb2",
   "metadata": {},
   "outputs": [],
   "source": [
    "#Scatter plot using object-oriented\n",
    "fig, ax = plt.subplots()\n",
    "ax.scatter(x_axis, y_axis)"
   ]
  },
  {
   "cell_type": "code",
   "execution_count": null,
   "id": "0abaf4b0",
   "metadata": {},
   "outputs": [],
   "source": [
    "#Bubble chart using object-oriented\n",
    "fig, ax = plt.subplots()\n",
    "ax.scatter(x_axis, y_axis, s=y_axis)"
   ]
  },
  {
   "cell_type": "code",
   "execution_count": null,
   "id": "a2f248ad",
   "metadata": {},
   "outputs": [],
   "source": [
    "#Create a pie chart using MATLAB method\n",
    "plt.pie(y_axis, labels=x_axis)\n",
    "#plt.show()"
   ]
  },
  {
   "cell_type": "code",
   "execution_count": null,
   "id": "ac784944",
   "metadata": {},
   "outputs": [],
   "source": [
    "#add percentages for each month and explode the largest value\n",
    "#which would be july, the seventh value in the x_axis\n",
    "#explode parameter will offset the wedge by a fraction of the radius\n",
    "plt.subplots(figsize=(8, 8))\n",
    "# ^ this will increase the size of the chart\n",
    "explode_values = (0, 0, 0, 0, 0, 0, 0.2, 0, 0, 0, 0, 0)\n",
    "plt.pie(y_axis, explode=explode_values, labels=x_axis, autopct='%.1f%%')"
   ]
  },
  {
   "cell_type": "code",
   "execution_count": null,
   "id": "71091af3",
   "metadata": {},
   "outputs": [],
   "source": [
    "# Assign 12 colors, one for each month.\n",
    "colors = [\"slateblue\", \"magenta\", \"lightblue\", \"green\", \"yellowgreen\", \"greenyellow\", \"yellow\", \"orange\", \"gold\", \"indianred\", \"tomato\", \"mistyrose\"]\n",
    "explode_values = (0, 0, 0, 0, 0, 0, 0.2, 0, 0, 0, 0, 0)\n",
    "plt.subplots(figsize=(8, 8))\n",
    "plt.pie(y_axis,\n",
    "    explode=explode_values,\n",
    "    colors=colors,\n",
    "    labels=x_axis,\n",
    "    autopct='%.1f%%')\n",
    "\n",
    "#plt.show()"
   ]
  },
  {
   "cell_type": "code",
   "execution_count": null,
   "id": "74350094",
   "metadata": {},
   "outputs": [],
   "source": [
    "#Create pie chart using the object-oriented\n",
    "fig, ax = plt.subplots()\n",
    "ax.pie(y_axis, labels=x_axis)"
   ]
  },
  {
   "cell_type": "code",
   "execution_count": null,
   "id": "ae53df5f",
   "metadata": {},
   "outputs": [],
   "source": [
    "#Add error bars to a line chart with the MATLAB approach\n",
    "plt.errorbar(x, y, yerr=<value>)"
   ]
  }
 ],
 "metadata": {
  "kernelspec": {
   "display_name": "PythonData",
   "language": "python",
   "name": "pythondata"
  },
  "language_info": {
   "codemirror_mode": {
    "name": "ipython",
    "version": 3
   },
   "file_extension": ".py",
   "mimetype": "text/x-python",
   "name": "python",
   "nbconvert_exporter": "python",
   "pygments_lexer": "ipython3",
   "version": "3.8.11"
  }
 },
 "nbformat": 4,
 "nbformat_minor": 5
}
